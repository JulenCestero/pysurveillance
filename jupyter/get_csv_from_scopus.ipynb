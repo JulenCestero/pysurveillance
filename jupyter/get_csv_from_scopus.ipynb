{
 "nbformat": 4,
 "nbformat_minor": 2,
 "metadata": {
  "language_info": {
   "name": "python",
   "codemirror_mode": {
    "name": "ipython",
    "version": 3
   },
   "version": "3.6.9-final"
  },
  "orig_nbformat": 2,
  "file_extension": ".py",
  "mimetype": "text/x-python",
  "name": "python",
  "npconvert_exporter": "python",
  "pygments_lexer": "ipython3",
  "version": 3,
  "kernelspec": {
   "name": "python36964bit582a465aa4c647348f2762b9ad07a35c",
   "display_name": "Python 3.6.9 64-bit"
  }
 },
 "cells": [
  {
   "cell_type": "code",
   "execution_count": 1,
   "metadata": {},
   "outputs": [],
   "source": [
    "import pandas as pd\n",
    "import requests\n",
    "import json\n",
    "import re\n",
    "from urllib.parse import quote"
   ]
  },
  {
   "cell_type": "code",
   "execution_count": 2,
   "metadata": {},
   "outputs": [],
   "source": [
    "url = 'https://api.elsevier.com/content/search/scopus'\n",
    "with open('config.json', 'r') as f:\n",
    "    API_KEY = json.load(f)\n",
    "query = '\"inverse reinforcement learning\"  AND  ( \"system\"  OR  \"e-learning\"  OR  \"stochastic\"  OR  \"smart grids\"  OR  \"control\"  OR  \"system controller\"  OR  \"control tuning\"  OR  \"optimization\")'"
   ]
  },
  {
   "cell_type": "code",
   "execution_count": 3,
   "metadata": {},
   "outputs": [],
   "source": [
    "class scopus_df:\n",
    "    def __init__(self):\n",
    "        self.columns = ['Authors', 'Title', 'Year', 'Cited By', 'Affiliations', 'Author Keywords', 'Source title']\n",
    "        self.csv = pd.DataFrame(columns=self.columns)\n",
    "\n",
    "    def get_authors(self, publication: dict) -> list:\n",
    "        return [author['authname'] for author in publication['author']]\n",
    "\n",
    "    def get_affiliations(self, publication: dict) -> list:\n",
    "        return [aff['affilname'].replace(',', ';') for aff in publication['affiliation']]\n",
    "\n",
    "    def append(self, publication: dict) -> None:\n",
    "        try:\n",
    "            authors = ','.join(self.get_authors(publication))\n",
    "        except KeyError as e:\n",
    "            return None\n",
    "        title = publication['dc:title']\n",
    "        year = re.findall(r'([\\d]{4})', publication['prism:coverDisplayDate'])[0]\n",
    "        source_title = publication['prism:publicationName']\n",
    "        cites = publication['citedby-count']\n",
    "        try:\n",
    "            affiliations = ','.join(self.get_affiliations(publication))\n",
    "        except KeyError as e:\n",
    "            affiliations = ''\n",
    "        try:\n",
    "            author_kw = ','.join([ii.lstrip().strip() for ii in publication['authkeywords'].split('|')])\n",
    "        except KeyError as e:\n",
    "            author_kw = ''\n",
    "        self.csv = self.csv.append(pd.DataFrame([[authors, title, year, cites, affiliations, author_kw, source_title]], columns=self.columns), ignore_index=True)\n",
    "\n",
    "def query_to_scopus(url: str, query: str, api: str, start_item: int = 0) -> list:\n",
    "    return requests.get(url,\n",
    "                        headers={'Accept': 'application/json', 'X-ELS-APIKey': api},\n",
    "                        params={'query': query, 'view': 'COMPLETE', 'start': start_item}).json()\n",
    "def create_df_from_scopus(url: str, query: str, api: str, num_items: int) -> pd.DataFrame():\n",
    "    assert num_items > 0\n",
    "    start_item = 0\n",
    "    publications = scopus_df()\n",
    "    while start_item < num_items:\n",
    "        response = query_to_scopus(url, query_parsed, api, start_item)\n",
    "        try:\n",
    "            batch = response['search-results']['entry']\n",
    "        except KeyError as e:\n",
    "            break\n",
    "        for item in batch:\n",
    "            publications.append(item)\n",
    "            start_item += 1\n",
    "    return publications.csv\n",
    "    "
   ]
  },
  {
   "cell_type": "code",
   "execution_count": 4,
   "metadata": {},
   "outputs": [
    {
     "data": {
      "text/plain": "276"
     },
     "execution_count": 4,
     "metadata": {},
     "output_type": "execute_result"
    }
   ],
   "source": [
    "query_parsed = f'TITLE-ABS-KEY({query})' # TODO: Save a history of all the querys with the number of results\n",
    "api = API_KEY['api-key']\n",
    "num_items = int(query_to_scopus(url, query_parsed, api)['search-results']['opensearch:totalResults'])\n",
    "num_items"
   ]
  },
  {
   "cell_type": "code",
   "execution_count": 5,
   "metadata": {},
   "outputs": [],
   "source": [
    "csv = create_df_from_scopus(url, query, api, num_items)"
   ]
  },
  {
   "cell_type": "code",
   "execution_count": 6,
   "metadata": {},
   "outputs": [
    {
     "data": {
      "text/html": "<div>\n<style scoped>\n    .dataframe tbody tr th:only-of-type {\n        vertical-align: middle;\n    }\n\n    .dataframe tbody tr th {\n        vertical-align: top;\n    }\n\n    .dataframe thead th {\n        text-align: right;\n    }\n</style>\n<table border=\"1\" class=\"dataframe\">\n  <thead>\n    <tr style=\"text-align: right;\">\n      <th></th>\n      <th>Authors</th>\n      <th>Title</th>\n      <th>Year</th>\n      <th>Cited By</th>\n      <th>Affiliations</th>\n      <th>Author Keywords</th>\n      <th>Source title</th>\n    </tr>\n  </thead>\n  <tbody>\n    <tr>\n      <th>0</th>\n      <td>Shou Z.,Di X.,Ye J.,Zhu H.,Zhang H.,Hampshire R.</td>\n      <td>Optimal passenger-seeking policies on E-hailin...</td>\n      <td>2020</td>\n      <td>0</td>\n      <td>Tongji University,Columbia University in the C...</td>\n      <td>E-hailing,Imitation learning,Markov Decision P...</td>\n      <td>Transportation Research Part C: Emerging Techn...</td>\n    </tr>\n    <tr>\n      <th>1</th>\n      <td>Hitomi K.,Matsui K.,Rivas A.,Corchado J.</td>\n      <td>Development of a dangerous driving suppression...</td>\n      <td>2020</td>\n      <td>0</td>\n      <td>Osaka Institute of Technology,Universidad de S...</td>\n      <td>Blockchain,Inverse reinforcement learning,Safe...</td>\n      <td>Advances in Intelligent Systems and Computing</td>\n    </tr>\n    <tr>\n      <th>2</th>\n      <td>Hidaka K.,Hayakawa K.,Nishi T.,Usui T.,Yamamot...</td>\n      <td>Generating pedestrian walking behavior conside...</td>\n      <td>2019</td>\n      <td>0</td>\n      <td>Toyota Central Research Development Laboratory...</td>\n      <td>Inverse reinforcement learning,Pedestrian beha...</td>\n      <td>Transportation Research Part C: Emerging Techn...</td>\n    </tr>\n    <tr>\n      <th>3</th>\n      <td>Rivera-Villicana J.,Zambetta F.,Harland J.,Ber...</td>\n      <td>Exploring apprenticeship learning for player m...</td>\n      <td>2019</td>\n      <td>0</td>\n      <td>Deakin University,RMIT University</td>\n      <td>Anchorhead,Apprenticeship Learning,Interactive...</td>\n      <td>CHI PLAY 2019 - Extended Abstracts of the Annu...</td>\n    </tr>\n    <tr>\n      <th>4</th>\n      <td>Lin X.,Adams S.,Beling P.</td>\n      <td>Multi-agent inverse reinforcement learning for...</td>\n      <td>2019</td>\n      <td>0</td>\n      <td>University of Virginia,Origent Data Sciences</td>\n      <td></td>\n      <td>Journal of Artificial Intelligence Research</td>\n    </tr>\n    <tr>\n      <th>...</th>\n      <td>...</td>\n      <td>...</td>\n      <td>...</td>\n      <td>...</td>\n      <td>...</td>\n      <td>...</td>\n      <td>...</td>\n    </tr>\n    <tr>\n      <th>241</th>\n      <td>Jin Z.,Qian H.,Chen S.,Zhu M.</td>\n      <td>Survey of apprenticeship learning based on rew...</td>\n      <td>2008</td>\n      <td>1</td>\n      <td>School of Computer and Computing Science</td>\n      <td>Apprenticeship learning,Inverse reinforcement ...</td>\n      <td>Huazhong Keji Daxue Xuebao (Ziran Kexue Ban)/J...</td>\n    </tr>\n    <tr>\n      <th>242</th>\n      <td>Ramachandran D.,Amir E.</td>\n      <td>Bayesian inverse reinforcement learning</td>\n      <td>2007</td>\n      <td>198</td>\n      <td>University of Illinois at Urbana-Champaign</td>\n      <td></td>\n      <td>IJCAI International Joint Conference on Artifi...</td>\n    </tr>\n    <tr>\n      <th>243</th>\n      <td>Da Silva V.,Costa A.,Lima P.</td>\n      <td>Inverse reinforcement learning with evaluation</td>\n      <td>2006</td>\n      <td>7</td>\n      <td>Universidade de Sao Paulo - USP,Instituto Supe...</td>\n      <td></td>\n      <td>Proceedings - IEEE International Conference on...</td>\n    </tr>\n    <tr>\n      <th>244</th>\n      <td>Abbeel P.,Ng A.</td>\n      <td>Apprenticeship learning via inverse reinforcem...</td>\n      <td>2004</td>\n      <td>842</td>\n      <td>Stanford University</td>\n      <td></td>\n      <td>Proceedings, Twenty-First International Confer...</td>\n    </tr>\n    <tr>\n      <th>245</th>\n      <td>Russell S.</td>\n      <td>Learning agents for uncertain environments</td>\n      <td>1998</td>\n      <td>96</td>\n      <td>University of California; Berkeley</td>\n      <td></td>\n      <td>Proceedings of the Annual ACM Conference on Co...</td>\n    </tr>\n  </tbody>\n</table>\n<p>246 rows × 7 columns</p>\n</div>",
      "text/plain": "                                               Authors  \\\n0     Shou Z.,Di X.,Ye J.,Zhu H.,Zhang H.,Hampshire R.   \n1             Hitomi K.,Matsui K.,Rivas A.,Corchado J.   \n2    Hidaka K.,Hayakawa K.,Nishi T.,Usui T.,Yamamot...   \n3    Rivera-Villicana J.,Zambetta F.,Harland J.,Ber...   \n4                            Lin X.,Adams S.,Beling P.   \n..                                                 ...   \n241                      Jin Z.,Qian H.,Chen S.,Zhu M.   \n242                            Ramachandran D.,Amir E.   \n243                       Da Silva V.,Costa A.,Lima P.   \n244                                    Abbeel P.,Ng A.   \n245                                         Russell S.   \n\n                                                 Title  Year Cited By  \\\n0    Optimal passenger-seeking policies on E-hailin...  2020        0   \n1    Development of a dangerous driving suppression...  2020        0   \n2    Generating pedestrian walking behavior conside...  2019        0   \n3    Exploring apprenticeship learning for player m...  2019        0   \n4    Multi-agent inverse reinforcement learning for...  2019        0   \n..                                                 ...   ...      ...   \n241  Survey of apprenticeship learning based on rew...  2008        1   \n242            Bayesian inverse reinforcement learning  2007      198   \n243     Inverse reinforcement learning with evaluation  2006        7   \n244  Apprenticeship learning via inverse reinforcem...  2004      842   \n245         Learning agents for uncertain environments  1998       96   \n\n                                          Affiliations  \\\n0    Tongji University,Columbia University in the C...   \n1    Osaka Institute of Technology,Universidad de S...   \n2    Toyota Central Research Development Laboratory...   \n3                    Deakin University,RMIT University   \n4         University of Virginia,Origent Data Sciences   \n..                                                 ...   \n241           School of Computer and Computing Science   \n242         University of Illinois at Urbana-Champaign   \n243  Universidade de Sao Paulo - USP,Instituto Supe...   \n244                                Stanford University   \n245                 University of California; Berkeley   \n\n                                       Author Keywords  \\\n0    E-hailing,Imitation learning,Markov Decision P...   \n1    Blockchain,Inverse reinforcement learning,Safe...   \n2    Inverse reinforcement learning,Pedestrian beha...   \n3    Anchorhead,Apprenticeship Learning,Interactive...   \n4                                                        \n..                                                 ...   \n241  Apprenticeship learning,Inverse reinforcement ...   \n242                                                      \n243                                                      \n244                                                      \n245                                                      \n\n                                          Source title  \n0    Transportation Research Part C: Emerging Techn...  \n1        Advances in Intelligent Systems and Computing  \n2    Transportation Research Part C: Emerging Techn...  \n3    CHI PLAY 2019 - Extended Abstracts of the Annu...  \n4          Journal of Artificial Intelligence Research  \n..                                                 ...  \n241  Huazhong Keji Daxue Xuebao (Ziran Kexue Ban)/J...  \n242  IJCAI International Joint Conference on Artifi...  \n243  Proceedings - IEEE International Conference on...  \n244  Proceedings, Twenty-First International Confer...  \n245  Proceedings of the Annual ACM Conference on Co...  \n\n[246 rows x 7 columns]"
     },
     "execution_count": 6,
     "metadata": {},
     "output_type": "execute_result"
    }
   ],
   "source": [
    "csv"
   ]
  }
 ]
}