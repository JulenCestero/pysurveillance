{
 "nbformat": 4,
 "nbformat_minor": 2,
 "metadata": {
  "language_info": {
   "name": "python",
   "codemirror_mode": {
    "name": "ipython",
    "version": 3
   },
   "version": "3.6.9-final"
  },
  "orig_nbformat": 2,
  "file_extension": ".py",
  "mimetype": "text/x-python",
  "name": "python",
  "npconvert_exporter": "python",
  "pygments_lexer": "ipython3",
  "version": 3,
  "kernelspec": {
   "name": "python36964bit582a465aa4c647348f2762b9ad07a35c",
   "display_name": "Python 3.6.9 64-bit"
  }
 },
 "cells": [
  {
   "cell_type": "code",
   "execution_count": 1,
   "metadata": {},
   "outputs": [],
   "source": [
    "import pandas as pd\n",
    "import requests\n",
    "import json\n",
    "import re\n",
    "from urllib.parse import quote"
   ]
  },
  {
   "cell_type": "code",
   "execution_count": 2,
   "metadata": {},
   "outputs": [],
   "source": [
    "url = 'https://api.elsevier.com/content/search/scopus'\n",
    "with open('config.json', 'r') as f:\n",
    "    API_KEY = json.load(f)\n",
    "query = '\"inverse reinforcement learning\"  AND  ( \"system\"  OR  \"e-learning\"  OR  \"stochastic\"  OR  \"smart grids\"  OR  \"control\"  OR  \"system controller\"  OR  \"control tuning\"  OR  \"optimization\")'"
   ]
  },
  {
   "cell_type": "code",
   "execution_count": 3,
   "metadata": {},
   "outputs": [],
   "source": [
    "def query_to_scopus(url: str, query: str, api: str) -> list:\n",
    "    return requests.get(url,\n",
    "                        headers={'Accept': 'application/json', 'X-ELS-APIKey': api},\n",
    "                        params={'query': query, 'view': 'COMPLETE', 'start': 0}).json()\n",
    "\n",
    "class scopus_df:\n",
    "    def __init__(self):\n",
    "        self.columns = ['Authors', 'Title', 'Year', 'Cited By', 'Affiliations', 'Author Keywords', 'Source title']\n",
    "        self.csv = pd.DataFrame(columns=self.columns)\n",
    "\n",
    "    def get_authors(self, publication: dict) -> list:\n",
    "        return [author['authname'] for author in publication['author']]\n",
    "\n",
    "    def get_affiliations(self, publication: dict) -> list:\n",
    "        return [aff['affilname'].replace(',', ';') for aff in publication['affiliation']]\n",
    "\n",
    "    def append(self, publication: dict) -> None:\n",
    "        authors = ','.join(get_authors(publication))\n",
    "        title = publication['dc:title']\n",
    "        year = re.findall(r'([\\d]{4})', publication['prism:coverDisplayDate'])[0]\n",
    "        source_title = publication['prism:publicationName']\n",
    "        cites = publication['citedby-count']\n",
    "        affiliations = ','.join(get_affiliations(publication))\n",
    "        try:\n",
    "            author_kw = ','.join([ii.lstrip().strip() for ii in publication['authkeywords'].split('|')])\n",
    "        except KeyError as e:\n",
    "            author_kw = ''\n",
    "        self.csv = self.csv.append(pd.DataFrame([[authors, title, year, cites, affiliations, author_kw, source_title]], columns=self.columns), ignore_index=True)"
   ]
  },
  {
   "cell_type": "code",
   "execution_count": 4,
   "metadata": {},
   "outputs": [
    {
     "data": {
      "text/plain": "276"
     },
     "execution_count": 4,
     "metadata": {},
     "output_type": "execute_result"
    }
   ],
   "source": [
    "query_parsed = f'TITLE-ABS-KEY({query})' # TODO: Save a history of all the querys with the number of results\n",
    "api = API_KEY['api-key']\n",
    "num_items = int(query_to_scopus(url, query_parsed, api)['search-results']['opensearch:totalResults'])"
   ]
  },
  {
   "cell_type": "code",
   "execution_count": 6,
   "metadata": {},
   "outputs": [],
   "source": [
    "publications = scopus_df()\n"
   ]
  }
 ]
}