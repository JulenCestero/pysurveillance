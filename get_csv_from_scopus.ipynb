{
 "nbformat": 4,
 "nbformat_minor": 2,
 "metadata": {
  "language_info": {
   "name": "python",
   "codemirror_mode": {
    "name": "ipython",
    "version": 3
   },
   "version": "3.6.9-final"
  },
  "orig_nbformat": 2,
  "file_extension": ".py",
  "mimetype": "text/x-python",
  "name": "python",
  "npconvert_exporter": "python",
  "pygments_lexer": "ipython3",
  "version": 3,
  "kernelspec": {
   "name": "python36964bit582a465aa4c647348f2762b9ad07a35c",
   "display_name": "Python 3.6.9 64-bit"
  }
 },
 "cells": [
  {
   "cell_type": "code",
   "execution_count": 110,
   "metadata": {},
   "outputs": [],
   "source": [
    "import pandas as pd\n",
    "import requests\n",
    "import json\n",
    "import re\n",
    "from urllib.parse import quote"
   ]
  },
  {
   "cell_type": "code",
   "execution_count": 80,
   "metadata": {},
   "outputs": [],
   "source": [
    "url = 'https://api.elsevier.com/content/search/scopus'\n",
    "with open('config.json', 'r') as f:\n",
    "    API_KEY = json.load(f)\n",
    "query = '\"inverse reinforcement learning\"  AND  ( \"system\"  OR  \"e-learning\"  OR  \"stochastic\"  OR  \"smart grids\"  OR  \"control\"  OR  \"system controller\"  OR  \"control tuning\"  OR  \"optimization\")'"
   ]
  },
  {
   "cell_type": "code",
   "execution_count": 96,
   "metadata": {},
   "outputs": [
    {
     "data": {
      "text/plain": "276"
     },
     "execution_count": 96,
     "metadata": {},
     "output_type": "execute_result"
    }
   ],
   "source": [
    "query_parsed = f'TITLE-ABS-KEY({query})'\n",
    "resp = requests.get(url,\n",
    "                    headers={'Accept': 'application/json', 'X-ELS-APIKey': API_KEY['api-key']},\n",
    "                    params={'query': query_parsed, 'view': 'COMPLETE', 'start': 0})\n",
    "items = int(resp.json().get('search-results').get('opensearch:totalResults'))\n",
    "a = resp.json()\n",
    "items"
   ]
  },
  {
   "cell_type": "code",
   "execution_count": 124,
   "metadata": {},
   "outputs": [],
   "source": [
    "class scopus_df:\n",
    "    def __init__(self):\n",
    "        columns = ['Authors', 'Title', 'Year', 'Cited By', 'Affiliations', 'Author Keywords', 'Source title']\n",
    "        self.csv = pd.DataFrame(columns=columns)\n",
    "\n",
    "    def get_authors(self, publication: dict) -> list:\n",
    "        return [author['authname'] for author in publication['author']]\n",
    "\n",
    "    def get_affiliations(self, publication: dict) -> list:\n",
    "        return [aff['affilname'].replace(',', ';') for aff in publication['affiliation']]\n",
    "\n",
    "    def append(self, publication: dict) -> None:\n",
    "        authors = ','.join(get_authors(publication))\n",
    "        title = publication['dc:title']\n",
    "        year = re.findall(r'([\\d]+)', publication['prism:coverDisplayDate'])[0]\n",
    "        source_title = publication['prism:publicationName']\n",
    "        cites = publication['citedby-count']\n",
    "        affiliations = ','.join(get_affiliations(publication))\n",
    "        author_kw = ','.join([ii.lstrip().strip() for ii in publication['authkeywords'].split('|')])\n",
    "        print(f\"\"\"\n",
    "                Authors: {authors}\\n\n",
    "                Title: {title}\\n\n",
    "                Year: {year}\\n\n",
    "                Source: {source_title}\\n\n",
    "                Cite number: {cites}\\n\n",
    "                Affiliations: {affiliations}\\n\n",
    "                Author Keywords: {author_kw}\\n\n",
    "                \"\"\")\n"
   ]
  },
  {
   "cell_type": "code",
   "execution_count": 125,
   "metadata": {},
   "outputs": [
    {
     "name": "stdout",
     "output_type": "stream",
     "text": "\n                Authors: Shou Z.,Di X.,Ye J.,Zhu H.,Zhang H.,Hampshire R.\n\n                Title: Optimal passenger-seeking policies on E-hailing platforms using Markov decision process and imitation learning\n\n                Year: 2020\n\n                Source: Transportation Research Part C: Emerging Technologies\n\n                Cite number: 0\n\n                Affiliations: Tongji University,Columbia University in the City of New York,University of Michigan; Ann Arbor,University of Michigan Transportation Research Institute,Didi Chuxing Inc.\n\n                Author Keywords: E-hailing,Imitation learning,Markov Decision Process (MDP)\n\n                \n"
    }
   ],
   "source": [
    "# a['search-results'].keys\n",
    "a['search-results']['entry'][0]\n",
    "b = scopus_df()\n",
    "b.append(a['search-results']['entry'][0])"
   ]
  }
 ]
}