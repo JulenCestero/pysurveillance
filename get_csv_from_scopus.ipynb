{
 "nbformat": 4,
 "nbformat_minor": 2,
 "metadata": {
  "language_info": {
   "name": "python",
   "codemirror_mode": {
    "name": "ipython",
    "version": 3
   },
   "version": "3.6.9-final"
  },
  "orig_nbformat": 2,
  "file_extension": ".py",
  "mimetype": "text/x-python",
  "name": "python",
  "npconvert_exporter": "python",
  "pygments_lexer": "ipython3",
  "version": 3,
  "kernelspec": {
   "name": "python36964bit582a465aa4c647348f2762b9ad07a35c",
   "display_name": "Python 3.6.9 64-bit"
  }
 },
 "cells": [
  {
   "cell_type": "code",
   "execution_count": 1,
   "metadata": {},
   "outputs": [],
   "source": [
    "import pandas as pd\n",
    "import requests\n",
    "import json\n",
    "import re\n",
    "from urllib.parse import quote"
   ]
  },
  {
   "cell_type": "code",
   "execution_count": 2,
   "metadata": {},
   "outputs": [],
   "source": [
    "url = 'https://api.elsevier.com/content/search/scopus'\n",
    "with open('config.json', 'r') as f:\n",
    "    API_KEY = json.load(f)\n",
    "query = '( \"Machine health\"  OR  \"Anomaly detection\"  OR  \"Deterioration\" )  AND  ( \"Machine learning\"  OR  \"Clustering\" )  AND  ( \"Real time\"  OR  \"real-time\"  OR  \"Real-Time\" )'"
   ]
  },
  {
   "cell_type": "code",
   "execution_count": 3,
   "metadata": {},
   "outputs": [],
   "source": [
    "class scopus_df:\n",
    "    def __init__(self):\n",
    "        self.columns = ['Authors', 'Title', 'Year', 'Cited By', 'Affiliations', 'Author Keywords', 'Source title']\n",
    "        self.csv = pd.DataFrame(columns=self.columns)\n",
    "\n",
    "    def get_authors(self, publication: dict) -> list:\n",
    "        return [author['authname'] for author in publication['author']]\n",
    "\n",
    "    def get_affiliations(self, publication: dict) -> list:\n",
    "        return [aff['affilname'].replace(',', ';') for aff in publication['affiliation']]\n",
    "\n",
    "    def append(self, publication: dict) -> None:\n",
    "        try:\n",
    "            authors = ','.join(self.get_authors(publication))\n",
    "        except KeyError as e:\n",
    "            return None\n",
    "        title = publication['dc:title']\n",
    "        year = re.findall(r'([\\d]{4})', publication['prism:coverDisplayDate'])[0]\n",
    "        source_title = publication['prism:publicationName']\n",
    "        cites = publication['citedby-count']\n",
    "        try:\n",
    "            affiliations = ','.join(self.get_affiliations(publication))\n",
    "        except KeyError as e:\n",
    "            affiliations = ''\n",
    "        try:\n",
    "            author_kw = ','.join([ii.lstrip().strip() for ii in publication['authkeywords'].split('|')])\n",
    "        except KeyError as e:\n",
    "            author_kw = ''\n",
    "        self.csv = self.csv.append(pd.DataFrame([[authors, title, year, cites, affiliations, author_kw, source_title]], columns=self.columns), ignore_index=True)\n",
    "\n",
    "def query_to_scopus(url: str, query: str, api: str, start_item: int = 0) -> list:\n",
    "    return requests.get(url,\n",
    "                        headers={'Accept': 'application/json', 'X-ELS-APIKey': api},\n",
    "                        params={'query': query, 'view': 'COMPLETE', 'start': start_item}).json()\n",
    "def create_df_from_scopus(url: str, query: str, api: str, num_items: int) -> pd.DataFrame():\n",
    "    assert num_items > 0\n",
    "    start_item = 0\n",
    "    publications = scopus_df()\n",
    "    while start_item < num_items:\n",
    "        response = query_to_scopus(url, query_parsed, api, start_item)\n",
    "        try:\n",
    "            batch = response['search-results']['entry']\n",
    "        except KeyError as e:\n",
    "            break\n",
    "        for item in batch:\n",
    "            publications.append(item)\n",
    "            start_item += 1\n",
    "    return publications.csv\n",
    "    "
   ]
  },
  {
   "cell_type": "code",
   "execution_count": 4,
   "metadata": {},
   "outputs": [
    {
     "data": {
      "text/plain": "491"
     },
     "execution_count": 4,
     "metadata": {},
     "output_type": "execute_result"
    }
   ],
   "source": [
    "query_parsed = f'TITLE-ABS-KEY({query})' # TODO: Save a history of all the querys with the number of results\n",
    "api = API_KEY['api-key']\n",
    "num_items = int(query_to_scopus(url, query_parsed, api)['search-results']['opensearch:totalResults'])\n",
    "num_items"
   ]
  },
  {
   "cell_type": "code",
   "execution_count": 5,
   "metadata": {},
   "outputs": [],
   "source": [
    "csv = create_df_from_scopus(url, query, api, num_items)"
   ]
  },
  {
   "cell_type": "code",
   "execution_count": 6,
   "metadata": {},
   "outputs": [
    {
     "data": {
      "text/html": "<div>\n<style scoped>\n    .dataframe tbody tr th:only-of-type {\n        vertical-align: middle;\n    }\n\n    .dataframe tbody tr th {\n        vertical-align: top;\n    }\n\n    .dataframe thead th {\n        text-align: right;\n    }\n</style>\n<table border=\"1\" class=\"dataframe\">\n  <thead>\n    <tr style=\"text-align: right;\">\n      <th></th>\n      <th>Authors</th>\n      <th>Title</th>\n      <th>Year</th>\n      <th>Cited By</th>\n      <th>Affiliations</th>\n      <th>Author Keywords</th>\n      <th>Source title</th>\n    </tr>\n  </thead>\n  <tbody>\n    <tr>\n      <th>0</th>\n      <td>Bezerra C.,Costa B.,Guedes L.,Angelov P.</td>\n      <td>An evolving approach to data streams clusterin...</td>\n      <td>2020</td>\n      <td>0</td>\n      <td>School of Computing and Communications; Lancas...</td>\n      <td>Anomaly detection,Data stream,Eccentricity,Onl...</td>\n      <td>Information Sciences</td>\n    </tr>\n    <tr>\n      <th>1</th>\n      <td>Chellammal P.,Sheba Kezia Malarchelvi P.</td>\n      <td>Real-time anomaly detection using parallelized...</td>\n      <td>2020</td>\n      <td>1</td>\n      <td>J J College of Engineering and Technology</td>\n      <td>concept drift,data imbalance,ensemble modeling...</td>\n      <td>Concurrency Computation</td>\n    </tr>\n    <tr>\n      <th>2</th>\n      <td>Hoque X.,Sharma S.</td>\n      <td>Ensembled Deep Learning Approach for Maritime ...</td>\n      <td>2020</td>\n      <td>0</td>\n      <td>Institute of Information Technology and Manage...</td>\n      <td>AIS,Deep learning,LSTM,Maritime anomaly detection</td>\n      <td>Lecture Notes in Electrical Engineering</td>\n    </tr>\n    <tr>\n      <th>3</th>\n      <td>Uddin V.,Rizvi S.,Hashmani M.,Jameel S.,Ansari T.</td>\n      <td>A study of deterioration in classification mod...</td>\n      <td>2020</td>\n      <td>0</td>\n      <td>Hamdard University,Universiti Teknologi Petronas</td>\n      <td>Big Data,Online Classification,Real-time machi...</td>\n      <td>Advances in Intelligent Systems and Computing</td>\n    </tr>\n    <tr>\n      <th>4</th>\n      <td>Gurina E.,Klyuchnikov N.,Zaytsev A.,Romanenkov...</td>\n      <td>Application of machine learning to accidents d...</td>\n      <td>2020</td>\n      <td>1</td>\n      <td>Gazprom Neft PJSC,Skolkovo Institute of Scienc...</td>\n      <td>Anomaly detection,Classification,Directional d...</td>\n      <td>Journal of Petroleum Science and Engineering</td>\n    </tr>\n    <tr>\n      <th>...</th>\n      <td>...</td>\n      <td>...</td>\n      <td>...</td>\n      <td>...</td>\n      <td>...</td>\n      <td>...</td>\n      <td>...</td>\n    </tr>\n    <tr>\n      <th>455</th>\n      <td>Adair K.</td>\n      <td>Extracting knowledge from temporal clusters fo...</td>\n      <td>1999</td>\n      <td>1</td>\n      <td>Los Alamos National Laboratory</td>\n      <td></td>\n      <td>Proceedings of the International Joint Confere...</td>\n    </tr>\n    <tr>\n      <th>456</th>\n      <td>Waite N.</td>\n      <td>A real-time system-adapted anomaly detector</td>\n      <td>1999</td>\n      <td>2</td>\n      <td></td>\n      <td>Adaptive,Anomaly detection,Artificial intellig...</td>\n      <td>Information Sciences</td>\n    </tr>\n    <tr>\n      <th>457</th>\n      <td>McGregor R.,Nguyen M.,Robinson I.,Weisberg A.,...</td>\n      <td>Target detection using HSI systems: An update ...</td>\n      <td>1998</td>\n      <td>1</td>\n      <td>Northrop Grumman corporation</td>\n      <td>Anomaly detection,Clustering,Hyperspectral ima...</td>\n      <td>Proceedings of SPIE - The International Societ...</td>\n    </tr>\n    <tr>\n      <th>458</th>\n      <td>Baker J.</td>\n      <td>Image accuracy and representational enhancemen...</td>\n      <td>1993</td>\n      <td>2</td>\n      <td>Oak Ridge National Laboratory</td>\n      <td></td>\n      <td>Proceedings of SPIE - The International Societ...</td>\n    </tr>\n    <tr>\n      <th>459</th>\n      <td>Lankewicz L.,Benard M.</td>\n      <td>Real-time anomaly detection using a nonparamet...</td>\n      <td>1991</td>\n      <td>20</td>\n      <td>Tulane University</td>\n      <td></td>\n      <td>Proceedings of the 7th Annual Computer Securit...</td>\n    </tr>\n  </tbody>\n</table>\n<p>460 rows × 7 columns</p>\n</div>",
      "text/plain": "                                               Authors  \\\n0             Bezerra C.,Costa B.,Guedes L.,Angelov P.   \n1             Chellammal P.,Sheba Kezia Malarchelvi P.   \n2                                   Hoque X.,Sharma S.   \n3    Uddin V.,Rizvi S.,Hashmani M.,Jameel S.,Ansari T.   \n4    Gurina E.,Klyuchnikov N.,Zaytsev A.,Romanenkov...   \n..                                                 ...   \n455                                           Adair K.   \n456                                           Waite N.   \n457  McGregor R.,Nguyen M.,Robinson I.,Weisberg A.,...   \n458                                           Baker J.   \n459                             Lankewicz L.,Benard M.   \n\n                                                 Title  Year Cited By  \\\n0    An evolving approach to data streams clusterin...  2020        0   \n1    Real-time anomaly detection using parallelized...  2020        1   \n2    Ensembled Deep Learning Approach for Maritime ...  2020        0   \n3    A study of deterioration in classification mod...  2020        0   \n4    Application of machine learning to accidents d...  2020        1   \n..                                                 ...   ...      ...   \n455  Extracting knowledge from temporal clusters fo...  1999        1   \n456        A real-time system-adapted anomaly detector  1999        2   \n457  Target detection using HSI systems: An update ...  1998        1   \n458  Image accuracy and representational enhancemen...  1993        2   \n459  Real-time anomaly detection using a nonparamet...  1991       20   \n\n                                          Affiliations  \\\n0    School of Computing and Communications; Lancas...   \n1            J J College of Engineering and Technology   \n2    Institute of Information Technology and Manage...   \n3     Hamdard University,Universiti Teknologi Petronas   \n4    Gazprom Neft PJSC,Skolkovo Institute of Scienc...   \n..                                                 ...   \n455                     Los Alamos National Laboratory   \n456                                                      \n457                       Northrop Grumman corporation   \n458                      Oak Ridge National Laboratory   \n459                                  Tulane University   \n\n                                       Author Keywords  \\\n0    Anomaly detection,Data stream,Eccentricity,Onl...   \n1    concept drift,data imbalance,ensemble modeling...   \n2    AIS,Deep learning,LSTM,Maritime anomaly detection   \n3    Big Data,Online Classification,Real-time machi...   \n4    Anomaly detection,Classification,Directional d...   \n..                                                 ...   \n455                                                      \n456  Adaptive,Anomaly detection,Artificial intellig...   \n457  Anomaly detection,Clustering,Hyperspectral ima...   \n458                                                      \n459                                                      \n\n                                          Source title  \n0                                 Information Sciences  \n1                              Concurrency Computation  \n2              Lecture Notes in Electrical Engineering  \n3        Advances in Intelligent Systems and Computing  \n4         Journal of Petroleum Science and Engineering  \n..                                                 ...  \n455  Proceedings of the International Joint Confere...  \n456                               Information Sciences  \n457  Proceedings of SPIE - The International Societ...  \n458  Proceedings of SPIE - The International Societ...  \n459  Proceedings of the 7th Annual Computer Securit...  \n\n[460 rows x 7 columns]"
     },
     "execution_count": 6,
     "metadata": {},
     "output_type": "execute_result"
    }
   ],
   "source": [
    "csv"
   ]
  }
 ]
}